{
 "cells": [
  {
   "cell_type": "code",
   "execution_count": 10,
   "id": "42ab8987-678f-43ad-b2b7-cdea2edc9ce4",
   "metadata": {},
   "outputs": [
    {
     "name": "stdout",
     "output_type": "stream",
     "text": [
      "welcome to My Restaurant\n",
      "Pizza: Rs100\n",
      "Pasta: Rs40\n",
      "Momos: Rs50\n",
      "Coffee: Rs30\n",
      "Tea: Rs20\n"
     ]
    },
    {
     "name": "stdin",
     "output_type": "stream",
     "text": [
      "Enter the name of item you want to order =  coffee\n"
     ]
    },
    {
     "name": "stdout",
     "output_type": "stream",
     "text": [
      "Ordered item coffee is not available yet\n"
     ]
    },
    {
     "name": "stdin",
     "output_type": "stream",
     "text": [
      "Do you want to add another item? (Yes/No) no\n"
     ]
    },
    {
     "name": "stdout",
     "output_type": "stream",
     "text": [
      "The total amount of item is 0 to pay\n"
     ]
    }
   ],
   "source": [
    "menu = {\n",
    "    'Pizza' : 100,\n",
    "    'Pasta' : 40,\n",
    "    'Momos' : 50,\n",
    "    'Coffee' : 30,\n",
    "    'Tea' : 20,\n",
    "}\n",
    "#Greet\n",
    "print(\"welcome to My Restaurant\")\n",
    "print(\"Pizza: Rs100\\nPasta: Rs40\\nMomos: Rs50\\nCoffee: Rs30\\nTea: Rs20\")\n",
    "order_total = 0\n",
    "item_1 = input(\"Enter the name of item you want to order = \")\n",
    "if item_1 in menu:\n",
    "    order_total += menu[item_1]\n",
    "    print(f\"Your item {item_1} has been added to your order\")\n",
    "else:\n",
    "    print(f\"Ordered item {item_1} is not available yet\")\n",
    "another_order = input(\"Do you want to add another item? (Yes/No)\")\n",
    "if another_order == \"Yes\":\n",
    "    item_2 = input(\"Enter the name of second item = \")\n",
    "    if item_2 in menu:\n",
    "        order_total += menu[item_2]\n",
    "        print(f\"Item {item_2} has been added\")\n",
    "    else:\n",
    "        print(f\"Ordered item {item_2} is not available!\")\n",
    "print(f\"The total amount of item is {order_total} to pay\")\n"
   ]
  },
  {
   "cell_type": "code",
   "execution_count": null,
   "id": "89bb6aa6-7956-48ea-99b7-64282543bb41",
   "metadata": {},
   "outputs": [],
   "source": []
  }
 ],
 "metadata": {
  "kernelspec": {
   "display_name": "Python 3 (ipykernel)",
   "language": "python",
   "name": "python3"
  },
  "language_info": {
   "codemirror_mode": {
    "name": "ipython",
    "version": 3
   },
   "file_extension": ".py",
   "mimetype": "text/x-python",
   "name": "python",
   "nbconvert_exporter": "python",
   "pygments_lexer": "ipython3",
   "version": "3.12.4"
  }
 },
 "nbformat": 4,
 "nbformat_minor": 5
}
